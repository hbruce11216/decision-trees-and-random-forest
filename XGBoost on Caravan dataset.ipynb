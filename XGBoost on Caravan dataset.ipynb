{
 "cells": [
  {
   "cell_type": "markdown",
   "metadata": {},
   "source": [
    "# XGBoost\n",
    "#### Holden Bruce"
   ]
  },
  {
   "cell_type": "markdown",
   "metadata": {},
   "source": [
    "The data contains 5822 real customer records. Each record consists of 86 variables, containing sociodemographic data (variables 1-43) and product ownership (variables 44-86). The sociodemographic data is derived from zip codes. All customers living in areas with the same zip code have the same sociodemographic attributes. Variable 86 (Purchase) indicates whether the customer purchased a caravan insurance policy. Further information on the individual variables can be obtained at http://www.liacs.nl/~putten/library/cc2000/data.html"
   ]
  },
  {
   "cell_type": "markdown",
   "metadata": {},
   "source": [
    "In this question, we will be building a collection of boosted trees and using the categorical/continuous data from the caravan dataset to \n",
    "predict whether or not a person will make a purchase if the estimated probability of purchase is greater than 20%. We will then compare the results to KNN and logistic regression for this same dataset, ultimatley showing that XGBoost leads to a better predictive model. XGBoost is particularly useful as a machine learning method enabling us to create a relatively easily interpretable model without sacrificing our ability to correctly classify observations."
   ]
  },
  {
   "cell_type": "markdown",
   "metadata": {},
   "source": [
    "We'll start with loading the caravan dataset using pandas to turn it into a dataframe, which we will call 'caravan'"
   ]
  },
  {
   "cell_type": "code",
   "execution_count": 18,
   "metadata": {},
   "outputs": [],
   "source": [
    "import numpy as np # calculate the mean and standard deviation\n",
    "import matplotlib.pyplot as plt # to draw graphs\n",
    "from sklearn.tree import DecisionTreeClassifier # to build a classification tree\n",
    "from sklearn.tree import DecisionTreeRegressor # to build a regression tree\n",
    "from sklearn.tree import plot_tree # to draw a classification tree\n",
    "import graphviz\n",
    "from sklearn.tree import export_graphviz # to export a tree using graphviz\n",
    "#conda install -c conda-forge xgboost\n",
    "import xgboost as xgb # XGBoost \n",
    "from sklearn.model_selection import train_test_split # split data into training and testing sets\n",
    "from sklearn.model_selection import cross_val_score # for cross validation\n",
    "from sklearn.metrics import balanced_accuracy_score, roc_auc_score, make_scorer # for scoring during cross validation\n",
    "from sklearn.model_selection import GridSearchCV # cross validation\n",
    "from sklearn.metrics import confusion_matrix # creates a confusion matrix\n",
    "from sklearn.metrics import mean_squared_error # calculates mse\n",
    "from sklearn.metrics import plot_confusion_matrix # draws a confusion matrix\n",
    "\n",
    "from sklearn.ensemble import RandomForestRegressor, GradientBoostingRegressor,GradientBoostingClassifier"
   ]
  },
  {
   "cell_type": "code",
   "execution_count": 20,
   "metadata": {},
   "outputs": [],
   "source": [
    "caravan = pd.read_csv('Caravan.csv')"
   ]
  },
  {
   "cell_type": "markdown",
   "metadata": {},
   "source": [
    "Then we'll check the first five rows using head() and .shape to get an understanding of the layout (how many predictors and rows we have)"
   ]
  },
  {
   "cell_type": "code",
   "execution_count": 21,
   "metadata": {},
   "outputs": [
    {
     "data": {
      "text/plain": [
       "(5822, 86)"
      ]
     },
     "execution_count": 21,
     "metadata": {},
     "output_type": "execute_result"
    }
   ],
   "source": [
    "caravan.head()\n",
    "caravan.shape #(5822, 86)"
   ]
  },
  {
   "cell_type": "markdown",
   "metadata": {},
   "source": [
    "We have 86 columns (85 predictors) and 5822 rows (individual customer records)"
   ]
  },
  {
   "cell_type": "code",
   "execution_count": 22,
   "metadata": {},
   "outputs": [
    {
     "name": "stdout",
     "output_type": "stream",
     "text": [
      "<class 'pandas.core.frame.DataFrame'>\n",
      "RangeIndex: 5822 entries, 0 to 5821\n",
      "Data columns (total 86 columns):\n",
      " #   Column    Non-Null Count  Dtype \n",
      "---  ------    --------------  ----- \n",
      " 0   MOSTYPE   5822 non-null   int64 \n",
      " 1   MAANTHUI  5822 non-null   int64 \n",
      " 2   MGEMOMV   5822 non-null   int64 \n",
      " 3   MGEMLEEF  5822 non-null   int64 \n",
      " 4   MOSHOOFD  5822 non-null   int64 \n",
      " 5   MGODRK    5822 non-null   int64 \n",
      " 6   MGODPR    5822 non-null   int64 \n",
      " 7   MGODOV    5822 non-null   int64 \n",
      " 8   MGODGE    5822 non-null   int64 \n",
      " 9   MRELGE    5822 non-null   int64 \n",
      " 10  MRELSA    5822 non-null   int64 \n",
      " 11  MRELOV    5822 non-null   int64 \n",
      " 12  MFALLEEN  5822 non-null   int64 \n",
      " 13  MFGEKIND  5822 non-null   int64 \n",
      " 14  MFWEKIND  5822 non-null   int64 \n",
      " 15  MOPLHOOG  5822 non-null   int64 \n",
      " 16  MOPLMIDD  5822 non-null   int64 \n",
      " 17  MOPLLAAG  5822 non-null   int64 \n",
      " 18  MBERHOOG  5822 non-null   int64 \n",
      " 19  MBERZELF  5822 non-null   int64 \n",
      " 20  MBERBOER  5822 non-null   int64 \n",
      " 21  MBERMIDD  5822 non-null   int64 \n",
      " 22  MBERARBG  5822 non-null   int64 \n",
      " 23  MBERARBO  5822 non-null   int64 \n",
      " 24  MSKA      5822 non-null   int64 \n",
      " 25  MSKB1     5822 non-null   int64 \n",
      " 26  MSKB2     5822 non-null   int64 \n",
      " 27  MSKC      5822 non-null   int64 \n",
      " 28  MSKD      5822 non-null   int64 \n",
      " 29  MHHUUR    5822 non-null   int64 \n",
      " 30  MHKOOP    5822 non-null   int64 \n",
      " 31  MAUT1     5822 non-null   int64 \n",
      " 32  MAUT2     5822 non-null   int64 \n",
      " 33  MAUT0     5822 non-null   int64 \n",
      " 34  MZFONDS   5822 non-null   int64 \n",
      " 35  MZPART    5822 non-null   int64 \n",
      " 36  MINKM30   5822 non-null   int64 \n",
      " 37  MINK3045  5822 non-null   int64 \n",
      " 38  MINK4575  5822 non-null   int64 \n",
      " 39  MINK7512  5822 non-null   int64 \n",
      " 40  MINK123M  5822 non-null   int64 \n",
      " 41  MINKGEM   5822 non-null   int64 \n",
      " 42  MKOOPKLA  5822 non-null   int64 \n",
      " 43  PWAPART   5822 non-null   int64 \n",
      " 44  PWABEDR   5822 non-null   int64 \n",
      " 45  PWALAND   5822 non-null   int64 \n",
      " 46  PPERSAUT  5822 non-null   int64 \n",
      " 47  PBESAUT   5822 non-null   int64 \n",
      " 48  PMOTSCO   5822 non-null   int64 \n",
      " 49  PVRAAUT   5822 non-null   int64 \n",
      " 50  PAANHANG  5822 non-null   int64 \n",
      " 51  PTRACTOR  5822 non-null   int64 \n",
      " 52  PWERKT    5822 non-null   int64 \n",
      " 53  PBROM     5822 non-null   int64 \n",
      " 54  PLEVEN    5822 non-null   int64 \n",
      " 55  PPERSONG  5822 non-null   int64 \n",
      " 56  PGEZONG   5822 non-null   int64 \n",
      " 57  PWAOREG   5822 non-null   int64 \n",
      " 58  PBRAND    5822 non-null   int64 \n",
      " 59  PZEILPL   5822 non-null   int64 \n",
      " 60  PPLEZIER  5822 non-null   int64 \n",
      " 61  PFIETS    5822 non-null   int64 \n",
      " 62  PINBOED   5822 non-null   int64 \n",
      " 63  PBYSTAND  5822 non-null   int64 \n",
      " 64  AWAPART   5822 non-null   int64 \n",
      " 65  AWABEDR   5822 non-null   int64 \n",
      " 66  AWALAND   5822 non-null   int64 \n",
      " 67  APERSAUT  5822 non-null   int64 \n",
      " 68  ABESAUT   5822 non-null   int64 \n",
      " 69  AMOTSCO   5822 non-null   int64 \n",
      " 70  AVRAAUT   5822 non-null   int64 \n",
      " 71  AAANHANG  5822 non-null   int64 \n",
      " 72  ATRACTOR  5822 non-null   int64 \n",
      " 73  AWERKT    5822 non-null   int64 \n",
      " 74  ABROM     5822 non-null   int64 \n",
      " 75  ALEVEN    5822 non-null   int64 \n",
      " 76  APERSONG  5822 non-null   int64 \n",
      " 77  AGEZONG   5822 non-null   int64 \n",
      " 78  AWAOREG   5822 non-null   int64 \n",
      " 79  ABRAND    5822 non-null   int64 \n",
      " 80  AZEILPL   5822 non-null   int64 \n",
      " 81  APLEZIER  5822 non-null   int64 \n",
      " 82  AFIETS    5822 non-null   int64 \n",
      " 83  AINBOED   5822 non-null   int64 \n",
      " 84  ABYSTAND  5822 non-null   int64 \n",
      " 85  Purchase  5822 non-null   object\n",
      "dtypes: int64(85), object(1)\n",
      "memory usage: 3.8+ MB\n"
     ]
    }
   ],
   "source": [
    "#use .info() function to get a better sense of the type of data in \n",
    "#this dataset\n",
    "caravan.info()"
   ]
  },
  {
   "cell_type": "markdown",
   "metadata": {},
   "source": [
    "This shows us that every column is of type int64 except for Purchase, the response variable, which is of type object."
   ]
  },
  {
   "cell_type": "code",
   "execution_count": 23,
   "metadata": {},
   "outputs": [],
   "source": [
    "#check for missing data\n",
    "col_names = list(caravan.columns)\n",
    "for name in col_names:\n",
    "    if len(caravan.loc[caravan[name]==' ']) > 0:\n",
    "        print(name)\n",
    "#none"
   ]
  },
  {
   "cell_type": "markdown",
   "metadata": {},
   "source": [
    "Now we'll split the data into X (predictors) and y (response). We want to predict whether the customer purchased a caravan insurance \n",
    "policy (Purchase), using the other 85 columns as predictors.\n",
    "<br><br>\n",
    "I'm using copy() here so that if I make a mistake when making my classification trees, I won't accidentally overwrite the original dataset and can just reload X instead of reloading the entire caravan csv."
   ]
  },
  {
   "cell_type": "code",
   "execution_count": 24,
   "metadata": {},
   "outputs": [
    {
     "data": {
      "text/html": [
       "<div>\n",
       "<style scoped>\n",
       "    .dataframe tbody tr th:only-of-type {\n",
       "        vertical-align: middle;\n",
       "    }\n",
       "\n",
       "    .dataframe tbody tr th {\n",
       "        vertical-align: top;\n",
       "    }\n",
       "\n",
       "    .dataframe thead th {\n",
       "        text-align: right;\n",
       "    }\n",
       "</style>\n",
       "<table border=\"1\" class=\"dataframe\">\n",
       "  <thead>\n",
       "    <tr style=\"text-align: right;\">\n",
       "      <th></th>\n",
       "      <th>MOSTYPE</th>\n",
       "      <th>MAANTHUI</th>\n",
       "      <th>MGEMOMV</th>\n",
       "      <th>MGEMLEEF</th>\n",
       "      <th>MOSHOOFD</th>\n",
       "      <th>MGODRK</th>\n",
       "      <th>MGODPR</th>\n",
       "      <th>MGODOV</th>\n",
       "      <th>MGODGE</th>\n",
       "      <th>MRELGE</th>\n",
       "      <th>...</th>\n",
       "      <th>ALEVEN</th>\n",
       "      <th>APERSONG</th>\n",
       "      <th>AGEZONG</th>\n",
       "      <th>AWAOREG</th>\n",
       "      <th>ABRAND</th>\n",
       "      <th>AZEILPL</th>\n",
       "      <th>APLEZIER</th>\n",
       "      <th>AFIETS</th>\n",
       "      <th>AINBOED</th>\n",
       "      <th>ABYSTAND</th>\n",
       "    </tr>\n",
       "  </thead>\n",
       "  <tbody>\n",
       "    <tr>\n",
       "      <th>0</th>\n",
       "      <td>33</td>\n",
       "      <td>1</td>\n",
       "      <td>3</td>\n",
       "      <td>2</td>\n",
       "      <td>8</td>\n",
       "      <td>0</td>\n",
       "      <td>5</td>\n",
       "      <td>1</td>\n",
       "      <td>3</td>\n",
       "      <td>7</td>\n",
       "      <td>...</td>\n",
       "      <td>0</td>\n",
       "      <td>0</td>\n",
       "      <td>0</td>\n",
       "      <td>0</td>\n",
       "      <td>1</td>\n",
       "      <td>0</td>\n",
       "      <td>0</td>\n",
       "      <td>0</td>\n",
       "      <td>0</td>\n",
       "      <td>0</td>\n",
       "    </tr>\n",
       "    <tr>\n",
       "      <th>1</th>\n",
       "      <td>37</td>\n",
       "      <td>1</td>\n",
       "      <td>2</td>\n",
       "      <td>2</td>\n",
       "      <td>8</td>\n",
       "      <td>1</td>\n",
       "      <td>4</td>\n",
       "      <td>1</td>\n",
       "      <td>4</td>\n",
       "      <td>6</td>\n",
       "      <td>...</td>\n",
       "      <td>0</td>\n",
       "      <td>0</td>\n",
       "      <td>0</td>\n",
       "      <td>0</td>\n",
       "      <td>1</td>\n",
       "      <td>0</td>\n",
       "      <td>0</td>\n",
       "      <td>0</td>\n",
       "      <td>0</td>\n",
       "      <td>0</td>\n",
       "    </tr>\n",
       "    <tr>\n",
       "      <th>2</th>\n",
       "      <td>37</td>\n",
       "      <td>1</td>\n",
       "      <td>2</td>\n",
       "      <td>2</td>\n",
       "      <td>8</td>\n",
       "      <td>0</td>\n",
       "      <td>4</td>\n",
       "      <td>2</td>\n",
       "      <td>4</td>\n",
       "      <td>3</td>\n",
       "      <td>...</td>\n",
       "      <td>0</td>\n",
       "      <td>0</td>\n",
       "      <td>0</td>\n",
       "      <td>0</td>\n",
       "      <td>1</td>\n",
       "      <td>0</td>\n",
       "      <td>0</td>\n",
       "      <td>0</td>\n",
       "      <td>0</td>\n",
       "      <td>0</td>\n",
       "    </tr>\n",
       "    <tr>\n",
       "      <th>3</th>\n",
       "      <td>9</td>\n",
       "      <td>1</td>\n",
       "      <td>3</td>\n",
       "      <td>3</td>\n",
       "      <td>3</td>\n",
       "      <td>2</td>\n",
       "      <td>3</td>\n",
       "      <td>2</td>\n",
       "      <td>4</td>\n",
       "      <td>5</td>\n",
       "      <td>...</td>\n",
       "      <td>0</td>\n",
       "      <td>0</td>\n",
       "      <td>0</td>\n",
       "      <td>0</td>\n",
       "      <td>1</td>\n",
       "      <td>0</td>\n",
       "      <td>0</td>\n",
       "      <td>0</td>\n",
       "      <td>0</td>\n",
       "      <td>0</td>\n",
       "    </tr>\n",
       "    <tr>\n",
       "      <th>4</th>\n",
       "      <td>40</td>\n",
       "      <td>1</td>\n",
       "      <td>4</td>\n",
       "      <td>2</td>\n",
       "      <td>10</td>\n",
       "      <td>1</td>\n",
       "      <td>4</td>\n",
       "      <td>1</td>\n",
       "      <td>4</td>\n",
       "      <td>7</td>\n",
       "      <td>...</td>\n",
       "      <td>0</td>\n",
       "      <td>0</td>\n",
       "      <td>0</td>\n",
       "      <td>0</td>\n",
       "      <td>1</td>\n",
       "      <td>0</td>\n",
       "      <td>0</td>\n",
       "      <td>0</td>\n",
       "      <td>0</td>\n",
       "      <td>0</td>\n",
       "    </tr>\n",
       "  </tbody>\n",
       "</table>\n",
       "<p>5 rows × 85 columns</p>\n",
       "</div>"
      ],
      "text/plain": [
       "   MOSTYPE  MAANTHUI  MGEMOMV  MGEMLEEF  MOSHOOFD  MGODRK  MGODPR  MGODOV  \\\n",
       "0       33         1        3         2         8       0       5       1   \n",
       "1       37         1        2         2         8       1       4       1   \n",
       "2       37         1        2         2         8       0       4       2   \n",
       "3        9         1        3         3         3       2       3       2   \n",
       "4       40         1        4         2        10       1       4       1   \n",
       "\n",
       "   MGODGE  MRELGE  ...  ALEVEN  APERSONG  AGEZONG  AWAOREG  ABRAND  AZEILPL  \\\n",
       "0       3       7  ...       0         0        0        0       1        0   \n",
       "1       4       6  ...       0         0        0        0       1        0   \n",
       "2       4       3  ...       0         0        0        0       1        0   \n",
       "3       4       5  ...       0         0        0        0       1        0   \n",
       "4       4       7  ...       0         0        0        0       1        0   \n",
       "\n",
       "   APLEZIER  AFIETS  AINBOED  ABYSTAND  \n",
       "0         0       0        0         0  \n",
       "1         0       0        0         0  \n",
       "2         0       0        0         0  \n",
       "3         0       0        0         0  \n",
       "4         0       0        0         0  \n",
       "\n",
       "[5 rows x 85 columns]"
      ]
     },
     "execution_count": 24,
     "metadata": {},
     "output_type": "execute_result"
    }
   ],
   "source": [
    "X = caravan.drop('Purchase',axis=1).copy()\n",
    "X.head()"
   ]
  },
  {
   "cell_type": "markdown",
   "metadata": {},
   "source": [
    "As discussed above, all of the X columns are type int64 so we don't need to worry about one-hot encoding any of the values to make sure XGBoost runs."
   ]
  },
  {
   "cell_type": "code",
   "execution_count": 25,
   "metadata": {},
   "outputs": [
    {
     "data": {
      "text/plain": [
       "array(['No', 'Yes'], dtype=object)"
      ]
     },
     "execution_count": 25,
     "metadata": {},
     "output_type": "execute_result"
    }
   ],
   "source": [
    "y = caravan['Purchase']\n",
    "y.head()\n",
    "y.unique()"
   ]
  },
  {
   "cell_type": "markdown",
   "metadata": {},
   "source": [
    "y, on the other hand, is type object with two values 'Yes' and 'No', so we need to map 'Yes' to 1 and 'No' to 0."
   ]
  },
  {
   "cell_type": "code",
   "execution_count": 26,
   "metadata": {},
   "outputs": [
    {
     "data": {
      "text/plain": [
       "array([0, 1])"
      ]
     },
     "execution_count": 26,
     "metadata": {},
     "output_type": "execute_result"
    }
   ],
   "source": [
    "y = y.map({'No':0, 'Yes':1})\n",
    "y.head()\n",
    "y.unique()\n",
    "#now we're good "
   ]
  },
  {
   "cell_type": "markdown",
   "metadata": {},
   "source": [
    "## (a) \n",
    "Here I create a training set consisting of the first 1,000 observations, and a test set consisting of the remaining observations."
   ]
  },
  {
   "cell_type": "code",
   "execution_count": 69,
   "metadata": {},
   "outputs": [],
   "source": [
    "X_train = X[:1000]\n",
    "X_test = X[1000:]\n",
    "y_train = y[:1000]\n",
    "y_test = y[1000:]"
   ]
  },
  {
   "cell_type": "markdown",
   "metadata": {},
   "source": [
    "How imbalanced is our data?"
   ]
  },
  {
   "cell_type": "code",
   "execution_count": 70,
   "metadata": {},
   "outputs": [
    {
     "data": {
      "text/plain": [
       "0.05977327378907592"
      ]
     },
     "execution_count": 70,
     "metadata": {},
     "output_type": "execute_result"
    }
   ],
   "source": [
    "sum(y)/len(y)"
   ]
  },
  {
   "cell_type": "markdown",
   "metadata": {},
   "source": [
    "This tells us that less than 6% of people purchased a caravan insurance policy...in other words, our data is very imbalanced. When we split the data into training and testing, we SHOULD split it using stratification in order to maintain the same percentage of people who have and have not purchased a caravan insurance policy. But the question asks us to take the \"first 1000 observations\" for the training set and the remaining observations as the test set...this is going to open us up to some pretty serious imbalance in our test dataset and thus influence our final conclusions. I might come back and stratify anyway since the numbers are going to be off."
   ]
  },
  {
   "cell_type": "markdown",
   "metadata": {},
   "source": [
    "## (b)\n",
    "Here I will fit a boosting model to the training set with Purchase as the response and the other variables as predictors; using 1,000 trees and a shrinkage value of 0.01. "
   ]
  },
  {
   "cell_type": "code",
   "execution_count": 71,
   "metadata": {},
   "outputs": [
    {
     "data": {
      "text/plain": [
       "GradientBoostingClassifier(learning_rate=0.01, n_estimators=1000,\n",
       "                           random_state=313)"
      ]
     },
     "execution_count": 71,
     "metadata": {},
     "output_type": "execute_result"
    }
   ],
   "source": [
    "#instructed to use 1000 trees --> n_estimators will be set to 1000\n",
    "#instructed to set shrinking value of 0.01 --> learning_rate will be \n",
    "#set to 0.01\n",
    "boosted_caravan = GradientBoostingClassifier(n_estimators=1000,\n",
    "                                            learning_rate=0.01,\n",
    "                                            # max_depth=,\n",
    "                                            random_state=313)\n",
    "                                            \n",
    "boosted_caravan.fit(X_train, y_train)"
   ]
  },
  {
   "cell_type": "code",
   "execution_count": 72,
   "metadata": {},
   "outputs": [
    {
     "data": {
      "image/png": "[encoded data removed]",
      "text/plain": [
       "<Figure size 432x288 with 1 Axes>"
      ]
     },
     "metadata": {
      "needs_background": "light"
     },
     "output_type": "display_data"
    }
   ],
   "source": [
    "# Using the feature_importances_ attribute of the RandomForestRegressor,\n",
    "# we can view the importance of each variable:\n",
    "Importance = pd.DataFrame({'Importance':boosted_caravan.feature_importances_*100}, \n",
    "                          index = X_train.columns)\n",
    "\n",
    "Importance.sort_values(by = 'Importance', \n",
    "                       axis = 0, \n",
    "                       ascending = True).plot(kind = 'barh', \n",
    "                                              color = 'r', )\n",
    "\n",
    "plt.xlabel('Variable Importance')\n",
    "plt.gca().legend_ = None"
   ]
  },
  {
   "cell_type": "markdown",
   "metadata": {},
   "source": [
    "This is completely unreadable. I should update this to only return the top 10 most important variables."
   ]
  },
  {
   "cell_type": "code",
   "execution_count": 73,
   "metadata": {},
   "outputs": [
    {
     "data": {
      "image/png": "[encoded data removed]",
      "text/plain": [
       "<Figure size 432x288 with 1 Axes>"
      ]
     },
     "metadata": {
      "needs_background": "light"
     },
     "output_type": "display_data"
    }
   ],
   "source": [
    "########\n",
    "#here is another way to calculate the feature importances:\n",
    "feature_importance = boosted_caravan.feature_importances_*100\n",
    "rel_imp = pd.Series(feature_importance, \n",
    "                    index = X_train.columns).sort_values(inplace = False)\n",
    "rel_imp.T.plot(kind = 'barh', \n",
    "                color = 'r', )\n",
    "plt.xlabel('Variable Importance')\n",
    "plt.gca().legend_ = None\n",
    "########"
   ]
  },
  {
   "cell_type": "markdown",
   "metadata": {},
   "source": [
    "Instead of doing it that generic way, here is the approach with XGBoost using early stopping to find the optimal number of trees instead of using cross validation."
   ]
  },
  {
   "cell_type": "code",
   "execution_count": 74,
   "metadata": {},
   "outputs": [
    {
     "name": "stdout",
     "output_type": "stream",
     "text": [
      "[0]\tvalidation_0-aucpr:0.13022\n",
      "Will train until validation_0-aucpr hasn't improved in 10 rounds.\n",
      "[1]\tvalidation_0-aucpr:0.14189\n",
      "[2]\tvalidation_0-aucpr:0.12844\n",
      "[3]\tvalidation_0-aucpr:0.12997\n",
      "[4]\tvalidation_0-aucpr:0.12004\n",
      "[5]\tvalidation_0-aucpr:0.12348\n",
      "[6]\tvalidation_0-aucpr:0.11361\n",
      "[7]\tvalidation_0-aucpr:0.10838\n",
      "[8]\tvalidation_0-aucpr:0.11153\n",
      "[9]\tvalidation_0-aucpr:0.11137\n",
      "[10]\tvalidation_0-aucpr:0.11259\n",
      "[11]\tvalidation_0-aucpr:0.11313\n",
      "Stopping. Best iteration:\n",
      "[1]\tvalidation_0-aucpr:0.14189\n",
      "\n"
     ]
    },
    {
     "data": {
      "text/plain": [
       "XGBClassifier(base_score=0.5, booster='gbtree', colsample_bylevel=1,\n",
       "              colsample_bynode=1, colsample_bytree=1, gamma=0, gpu_id=-1,\n",
       "              importance_type='gain', interaction_constraints='',\n",
       "              learning_rate=0.300000012, max_delta_step=0, max_depth=6,\n",
       "              min_child_weight=1, missing=None, monotone_constraints='()',\n",
       "              n_estimators=100, n_jobs=0, num_parallel_tree=1, random_state=313,\n",
       "              reg_alpha=0, reg_lambda=1, scale_pos_weight=1, seed=313,\n",
       "              subsample=1, tree_method='exact', validate_parameters=1,\n",
       "              verbosity=None)"
      ]
     },
     "execution_count": 74,
     "metadata": {},
     "output_type": "execute_result"
    }
   ],
   "source": [
    "###XGBoost\n",
    "clf_xgb = xgb.XGBClassifier(objective='binary:logistic', missing=None, seed=313)\n",
    "clf_xgb.fit(X_train,\n",
    "            y_train,\n",
    "            verbose=True,\n",
    "            #early stopping\n",
    "            early_stopping_rounds = 10, #how many rounds after optimal before stopping \n",
    "            eval_metric='aucpr',\n",
    "            eval_set=[(X_test, y_test)])"
   ]
  },
  {
   "cell_type": "markdown",
   "metadata": {},
   "source": [
    "Interesting, it's claiming that the best number of trees is one."
   ]
  },
  {
   "cell_type": "code",
   "execution_count": 75,
   "metadata": {},
   "outputs": [
    {
     "data": {
      "text/plain": [
       "<sklearn.metrics._plot.confusion_matrix.ConfusionMatrixDisplay at 0x7fb168377090>"
      ]
     },
     "execution_count": 75,
     "metadata": {},
     "output_type": "execute_result"
    },
    {
     "data": {
      "image/png": "[encoded data removed]",
      "text/plain": [
       "<Figure size 432x288 with 2 Axes>"
      ]
     },
     "metadata": {
      "needs_background": "light"
     },
     "output_type": "display_data"
    }
   ],
   "source": [
    "#Build confusion matrix to see how well our XGBoost classification\n",
    "#model performs on the test data \n",
    "plot_confusion_matrix(clf_xgb, \n",
    "                      X_test, \n",
    "                      y_test,\n",
    "                      values_format='d',\n",
    "                      display_labels=[\"Did not purchase\", \"Purchased\"])"
   ]
  },
  {
   "cell_type": "markdown",
   "metadata": {},
   "source": [
    "In the confusion matrix we see that of the 4533 customers that did \n",
    "not purchase caravan insurance, 4500 (99%) were correctly classified\n",
    "and of the 289 customers that did not purchase caravan insurance,\n",
    "11 (3.8%) were correctly classified. <br><br>This indicates that our XGBoost model did not perform well at all. Likely, the biggest reason for this is that our data is severely \n",
    "imbalanced and we did nothing to fix it (just took the first 1000 \n",
    "observations instead of doing something like stratify the data)\n"
   ]
  },
  {
   "cell_type": "markdown",
   "metadata": {},
   "source": [
    "XGBoost's scale_pos_weight parameter will help with our imbalanced\n",
    "data. Instead of using the early stopping approach, we'll actually\n",
    "use cross validation and GridSearchCV to optimize the parameters. \n",
    "<br><br>\n",
    "In order for XGBoost to give us accurate predictions, we need to make sure that the hyperparameters are dialed in right... parameters like maximum tree depth (max_depth), eta which encourages pruning (gamma), the regularizationparameter lambda (reg_lambda), and the learning \n",
    "rate or shrinkage value (learning_rate).\n",
    "<br><br>\n",
    "Scott recommended I learn how to use GridSearchCV in his feedback for my midterm project, so here is my attempt. It seems like using GridSearchCV is a good call here since we have multiple hyperparameters that we need to make sure are optimally set. I think using GridSearchCV() is an approach of dialing in the nobs closer to your desired end goal with each iteration, so we'll use that approach by specifying some potential values for the hyperparameters and then GridSearchCV() will give us back the optimal parameters by testing every combination for us."
   ]
  },
  {
   "cell_type": "code",
   "execution_count": 76,
   "metadata": {},
   "outputs": [],
   "source": [
    "## ROUND 1\n",
    "param_grid = {\n",
    "    'max_depth': [3, 4, 5],\n",
    "    'learning_rate': [0.1, 0.01, 0.05],\n",
    "    'gamma': [0, 0.25, 1.0],\n",
    "    'reg_lambda': [0, 1.0, 10.0],\n",
    "    'scale_pos_weight': [1, 3, 5] \n",
    "}"
   ]
  },
  {
   "cell_type": "code",
   "execution_count": 77,
   "metadata": {},
   "outputs": [
    {
     "name": "stdout",
     "output_type": "stream",
     "text": [
      "Fitting 3 folds for each of 243 candidates, totalling 729 fits\n"
     ]
    },
    {
     "name": "stderr",
     "output_type": "stream",
     "text": [
      "[Parallel(n_jobs=10)]: Using backend LokyBackend with 10 concurrent workers.\n",
      "[Parallel(n_jobs=10)]: Done  22 tasks      | elapsed:    0.5s\n",
      "[Parallel(n_jobs=10)]: Done 264 tasks      | elapsed:    3.9s\n",
      "[Parallel(n_jobs=10)]: Done 670 tasks      | elapsed:    9.6s\n",
      "[Parallel(n_jobs=10)]: Done 710 out of 729 | elapsed:   10.1s remaining:    0.3s\n"
     ]
    },
    {
     "name": "stdout",
     "output_type": "stream",
     "text": [
      "{'gamma': 1.0, 'learning_rate': 0.01, 'max_depth': 4, 'reg_lambda': 1.0, 'scale_pos_weight': 1}\n"
     ]
    },
    {
     "name": "stderr",
     "output_type": "stream",
     "text": [
      "[Parallel(n_jobs=10)]: Done 729 out of 729 | elapsed:   10.4s finished\n"
     ]
    }
   ],
   "source": [
    "# To speed up cross validiation and to mitigate overfitting, we are \n",
    "# only using a random subset of the data (subsample 90%) and are only \n",
    "# using a random subset of the features (colsample_bytree 50%) per tree.\n",
    "optimal_params = GridSearchCV(\n",
    "    estimator=xgb.XGBClassifier(objective='binary:logistic', \n",
    "                                seed=42,\n",
    "                                subsample=0.9,\n",
    "                                colsample_bytree=0.5),\n",
    "    param_grid=param_grid,\n",
    "    scoring='roc_auc', ## see https://scikit-learn.org/stable/modules/model_evaluation.html#scoring-parameter\n",
    "    verbose=2, # NOTE: If you want to see what Grid Search is doing, set verbose=2...otherwise set to 0\n",
    "    n_jobs = 10,\n",
    "    cv = 3\n",
    ")\n",
    "\n",
    "optimal_params.fit(X_train, \n",
    "                    y_train, \n",
    "                    early_stopping_rounds=10,                \n",
    "                    eval_metric='auc',\n",
    "                    eval_set=[(X_test, y_test)],\n",
    "                    verbose=False)\n",
    "print(optimal_params.best_params_)"
   ]
  },
  {
   "cell_type": "markdown",
   "metadata": {},
   "source": [
    "{'gamma': 1.0, 'learning_rate': 0.01, 'max_depth': 4, 'reg_lambda': 1.0, 'scale_pos_weight': 1}\n",
    "<br>\n",
    "Because gamma and scale_pos_weight were at the ends of their range, we will continue to explore those. max_depth returned 4, which is right in the midle of the range we gave it, so we accept 4 as the optimal depth. Same for learning_rate."
   ]
  },
  {
   "cell_type": "code",
   "execution_count": 78,
   "metadata": {},
   "outputs": [],
   "source": [
    "# ## ROUND 2\n",
    "param_grid = {\n",
    "    'max_depth': [4],\n",
    "    'learning_rate': [0.01],\n",
    "    'gamma': [0, 0.25, 1.0],\n",
    "    'reg_lambda': [1.0],\n",
    "      'scale_pos_weight': [0.5, 1.0, 1.5]\n",
    "}"
   ]
  },
  {
   "cell_type": "code",
   "execution_count": 79,
   "metadata": {},
   "outputs": [
    {
     "name": "stderr",
     "output_type": "stream",
     "text": [
      "[Parallel(n_jobs=10)]: Using backend LokyBackend with 10 concurrent workers.\n"
     ]
    },
    {
     "name": "stdout",
     "output_type": "stream",
     "text": [
      "Fitting 3 folds for each of 9 candidates, totalling 27 fits\n"
     ]
    },
    {
     "name": "stderr",
     "output_type": "stream",
     "text": [
      "[Parallel(n_jobs=10)]: Done  22 out of  27 | elapsed:    0.4s remaining:    0.1s\n",
      "[Parallel(n_jobs=10)]: Done  27 out of  27 | elapsed:    0.4s finished\n"
     ]
    },
    {
     "name": "stdout",
     "output_type": "stream",
     "text": [
      "{'gamma': 1.0, 'learning_rate': 0.01, 'max_depth': 4, 'reg_lambda': 1.0, 'scale_pos_weight': 1.0}\n"
     ]
    }
   ],
   "source": [
    "# Run this again\n",
    "optimal_params = GridSearchCV(\n",
    "    estimator=xgb.XGBClassifier(objective='binary:logistic', \n",
    "                                seed=42,\n",
    "                                subsample=0.9,\n",
    "                                colsample_bytree=0.5),\n",
    "    param_grid=param_grid,\n",
    "    scoring='roc_auc', ## see https://scikit-learn.org/stable/modules/model_evaluation.html#scoring-parameter\n",
    "    verbose=2, # NOTE: If you want to see what Grid Search is doing, set verbose=2...otherwise set to 0\n",
    "    n_jobs = 10,\n",
    "    cv = 3\n",
    ")\n",
    "\n",
    "optimal_params.fit(X_train, \n",
    "                    y_train, \n",
    "                    early_stopping_rounds=10,                \n",
    "                    eval_metric='auc',\n",
    "                    eval_set=[(X_test, y_test)],\n",
    "                    verbose=False)\n",
    "print(optimal_params.best_params_)"
   ]
  },
  {
   "cell_type": "markdown",
   "metadata": {},
   "source": [
    "Output after running code below: <br>\n",
    "{'gamma': 1.0, 'learning_rate': 0.01, 'max_depth': 4, 'reg_lambda': 1.0, 'scale_pos_weight': 1.0}\n",
    "<br>\n",
    "Now we have dialed in gamma and scale_pos_weight to both be 1.0. These are our optimal hypterparameters:\n",
    "<br>\n",
    "max_depth=4,learning_rate=0.01,,gamma=1.0,reg_lambda=1.0,scale_pos_weight=1.0\n",
    "\n",
    "<br>\n",
    "Now that we have the optimal hyperparemeter values, we can go back and build the final XGBoost model."
   ]
  },
  {
   "cell_type": "code",
   "execution_count": 80,
   "metadata": {},
   "outputs": [
    {
     "name": "stdout",
     "output_type": "stream",
     "text": [
      "[21:29:00] WARNING: /Users/runner/miniforge3/conda-bld/xgboost_1598185652448/work/src/learner.cc:516: \n",
      "Parameters: { learn_rate } might not be used.\n",
      "\n",
      "  This may not be accurate due to some parameters are only used in language bindings but\n",
      "  passed down to XGBoost core.  Or some parameters are not used but slip through this\n",
      "  verification. Please open an issue if you find above cases.\n",
      "\n",
      "\n",
      "[0]\tvalidation_0-aucpr:0.11339\n",
      "Will train until validation_0-aucpr hasn't improved in 10 rounds.\n",
      "[1]\tvalidation_0-aucpr:0.13009\n",
      "[2]\tvalidation_0-aucpr:0.14214\n",
      "[3]\tvalidation_0-aucpr:0.15177\n",
      "[4]\tvalidation_0-aucpr:0.14992\n",
      "[5]\tvalidation_0-aucpr:0.15092\n",
      "[6]\tvalidation_0-aucpr:0.14702\n",
      "[7]\tvalidation_0-aucpr:0.13902\n",
      "[8]\tvalidation_0-aucpr:0.14796\n",
      "[9]\tvalidation_0-aucpr:0.13810\n",
      "[10]\tvalidation_0-aucpr:0.12842\n",
      "[11]\tvalidation_0-aucpr:0.12265\n",
      "[12]\tvalidation_0-aucpr:0.12459\n",
      "[13]\tvalidation_0-aucpr:0.12038\n",
      "Stopping. Best iteration:\n",
      "[3]\tvalidation_0-aucpr:0.15177\n",
      "\n"
     ]
    },
    {
     "data": {
      "text/plain": [
       "XGBClassifier(base_score=0.5, booster='gbtree', colsample_bylevel=1,\n",
       "              colsample_bynode=1, colsample_bytree=0.5, gamma=1.0, gpu_id=-1,\n",
       "              importance_type='gain', interaction_constraints='',\n",
       "              learn_rate=0.01, learning_rate=0.300000012, max_delta_step=0,\n",
       "              max_depth=4, min_child_weight=1, missing=nan,\n",
       "              monotone_constraints='()', n_estimators=100, n_jobs=0,\n",
       "              num_parallel_tree=1, random_state=42, reg_alpha=0, reg_lambda=1.0,\n",
       "              scale_pos_weight=1.0, seed=42, subsample=0.9, tree_method='exact',\n",
       "              validate_parameters=1, verbosity=None)"
      ]
     },
     "execution_count": 80,
     "metadata": {},
     "output_type": "execute_result"
    }
   ],
   "source": [
    "#optimal: max_depth=4,learning_rate=0.01,,gamma=1.0,reg_lambda=1.0,scale_pos_weight=1.0\n",
    "clf_xgb = xgb.XGBClassifier(seed=42,\n",
    "                        objective='binary:logistic',\n",
    "                        gamma=1.0,\n",
    "                        learn_rate=0.01,\n",
    "                        max_depth=4,\n",
    "                        reg_lambda=1.0,\n",
    "                        scale_pos_weight=1.0,\n",
    "                        subsample=0.9,\n",
    "                        colsample_bytree=0.5)\n",
    "clf_xgb.fit(X_train, \n",
    "            y_train, \n",
    "            verbose=True, \n",
    "            early_stopping_rounds=10,\n",
    "            eval_metric='aucpr',\n",
    "            eval_set=[(X_test, y_test)])"
   ]
  },
  {
   "cell_type": "markdown",
   "metadata": {},
   "source": [
    "Interestingly, this shows a message that learning_rate (one of the hyperparameters we dialed in for) might not be used. Regardless, the final output indicates that 3 trees will be best.\n",
    "<br>\n",
    "\n",
    "Now that we have fit the optimal model, we can draw another confusion matrix to compare how our new XGBoost model performs against the old one."
   ]
  },
  {
   "cell_type": "code",
   "execution_count": 81,
   "metadata": {},
   "outputs": [
    {
     "data": {
      "text/plain": [
       "<sklearn.metrics._plot.confusion_matrix.ConfusionMatrixDisplay at 0x7fb1791f8890>"
      ]
     },
     "execution_count": 81,
     "metadata": {},
     "output_type": "execute_result"
    },
    {
     "data": {
      "image/png": "[encoded data removed]",
      "text/plain": [
       "<Figure size 432x288 with 2 Axes>"
      ]
     },
     "metadata": {
      "needs_background": "light"
     },
     "output_type": "display_data"
    }
   ],
   "source": [
    "plot_confusion_matrix(clf_xgb, \n",
    "                      X_test, \n",
    "                      y_test,\n",
    "                      values_format='d',\n",
    "                      display_labels=[\"Did not purchase\", \"Purchased\"])"
   ]
  },
  {
   "cell_type": "markdown",
   "metadata": {},
   "source": [
    "This performs terribly. At this point I'm actually pretty confused. I expected our XGBoost model to perform well or at least improve somewhat after the adjustments we made. Is our data really too imbalanced to use XGBoost on?\n",
    "\n",
    "If that's the case, then I'm not going to use XGBoost on the next section and instead use the generic version that we learned in the lab to see if that shows any improvement.\n",
    "http://www.science.smith.edu/~jcrouser/SDS293/labs/lab14-py.html"
   ]
  },
  {
   "cell_type": "markdown",
   "metadata": {},
   "source": [
    "## (c) \n",
    "Use the boosting model to predict the response on the test data. Predict that a person will make a purchase if the estimated probability of purchase is greater than 20 %. Form a confusion matrix. What fraction of the people predicted to make a purchase do in fact make one? How does this compare with the results obtained from applying KNN or logistic regression to this data set?"
   ]
  },
  {
   "cell_type": "code",
   "execution_count": 82,
   "metadata": {},
   "outputs": [],
   "source": [
    "from sklearn.linear_model import LogisticRegression\n",
    "from sklearn.neighbors import KNeighborsClassifier\n",
    "from sklearn.metrics import accuracy_score"
   ]
  },
  {
   "cell_type": "code",
   "execution_count": 83,
   "metadata": {},
   "outputs": [],
   "source": [
    "# boost model\n",
    "y_predict_proba = boosted_caravan.predict_proba(X_test)[:,1]\n",
    "y_pred = np.where(y_predict_proba>0.2, 1, 0)"
   ]
  },
  {
   "cell_type": "code",
   "execution_count": 84,
   "metadata": {},
   "outputs": [
    {
     "name": "stdout",
     "output_type": "stream",
     "text": [
      "       No  Yes\n",
      "No   4334  251\n",
      "Yes   199   38\n"
     ]
    }
   ],
   "source": [
    "conf_m1 = pd.DataFrame(confusion_matrix(y_test, y_pred).T, index = ['No', 'Yes'], columns = ['No', 'Yes'])\n",
    "print(conf_m1)\n",
    "# percentage of people correctly classified (who were predicted to\n",
    "# purchase and actually purchase: 38/199 = 19.1%)"
   ]
  },
  {
   "cell_type": "code",
   "execution_count": 85,
   "metadata": {},
   "outputs": [
    {
     "name": "stdout",
     "output_type": "stream",
     "text": [
      "[[4260  273]\n",
      " [ 263   26]]\n",
      "Positive Predictive Value: 0.08696\n",
      "[[4509   24]\n",
      " [ 286    3]]\n",
      "Positive Predictive Value: 0.11111\n",
      "[[4463   70]\n",
      " [ 279   10]]\n",
      "Positive Predictive Value: 0.125\n",
      "[[4515   18]\n",
      " [ 285    4]]\n",
      "Positive Predictive Value: 0.18182\n",
      "[[4502   31]\n",
      " [ 285    4]]\n",
      "Positive Predictive Value: 0.11429\n",
      "[[4525    8]\n",
      " [ 287    2]]\n",
      "Positive Predictive Value: 0.2\n",
      "[[4517   16]\n",
      " [ 287    2]]\n",
      "Positive Predictive Value: 0.11111\n",
      "[[4528    5]\n",
      " [ 287    2]]\n",
      "Positive Predictive Value: 0.28571\n",
      "[[4526    7]\n",
      " [ 287    2]]\n",
      "Positive Predictive Value: 0.22222\n"
     ]
    }
   ],
   "source": [
    "# KNN\n",
    "\n",
    "for k in range(1,10):\n",
    "    knn_caravan = KNeighborsClassifier(n_neighbors=k).fit(X_train, y_train)\n",
    "    # y_predict_proba  = knn_caravan.predict_proba(xtest)[:,1]\n",
    "    y_pred = knn_caravan.predict(X_test)\n",
    "    \n",
    "    conf_knn = confusion_matrix(y_test, y_pred) #.T, index = ['No', 'Yes'], columns = ['No', 'Yes']\n",
    "    print(conf_knn)                 \n",
    "\n",
    "    #calculate the positive predictive value\n",
    "    pos_pred_val = np.around(conf_knn[:, 1][1] / np.sum(conf_knn[:, 1]), 5)\n",
    "    print('Positive Predictive Value: {}'.format(pos_pred_val))"
   ]
  },
  {
   "cell_type": "markdown",
   "metadata": {},
   "source": [
    "The predictive power jumps around but generally seems to increase as the number of neighbors increases. Some perform better than the boosted model, some perform worse. They are all generally still pretty terrible models. "
   ]
  }
 ],
 "metadata": {
  "kernelspec": {
   "display_name": "Python 3",
   "language": "python",
   "name": "python3"
  },
  "language_info": {
   "codemirror_mode": {
    "name": "ipython",
    "version": 3
   },
   "file_extension": ".py",
   "mimetype": "text/x-python",
   "name": "python",
   "nbconvert_exporter": "python",
   "pygments_lexer": "ipython3",
   "version": "3.7.7"
  }
 },
 "nbformat": 4,
 "nbformat_minor": 4
}
